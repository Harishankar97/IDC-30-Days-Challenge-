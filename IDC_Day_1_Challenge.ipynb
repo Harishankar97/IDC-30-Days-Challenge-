{
  "nbformat": 4,
  "nbformat_minor": 0,
  "metadata": {
    "colab": {
      "provenance": [],
      "authorship_tag": "ABX9TyOBMrVhrF0/49V2qHel0Vsn",
      "include_colab_link": true
    },
    "kernelspec": {
      "name": "python3",
      "display_name": "Python 3"
    },
    "language_info": {
      "name": "python"
    }
  },
  "cells": [
    {
      "cell_type": "markdown",
      "metadata": {
        "id": "view-in-github",
        "colab_type": "text"
      },
      "source": [
        "<a href=\"https://colab.research.google.com/github/Harishankar97/IDC-30-Days-Challenge-/blob/main/IDC_Day_1_Challenge.ipynb\" target=\"_parent\"><img src=\"https://colab.research.google.com/assets/colab-badge.svg\" alt=\"Open In Colab\"/></a>"
      ]
    },
    {
      "cell_type": "code",
      "execution_count": null,
      "metadata": {
        "id": "o1lAHWhvgTie"
      },
      "outputs": [],
      "source": [
        "name = \"Harishankar S V\""
      ]
    },
    {
      "cell_type": "code",
      "source": [
        "print(\"*\"*30)\n",
        "print(f\"Hello, World!\\n\\tMy name is {name}\", \"*\"*30, sep=\"\\n\")\n"
      ],
      "metadata": {
        "colab": {
          "base_uri": "https://localhost:8080/"
        },
        "id": "fseMKpfegcr7",
        "outputId": "14cd9ec6-46e5-46de-e2a9-fbc74d9a8f91"
      },
      "execution_count": null,
      "outputs": [
        {
          "output_type": "stream",
          "name": "stdout",
          "text": [
            "******************************\n",
            "Hello, World!\n",
            "\tMy name is Harishankar S V\n",
            "******************************\n"
          ]
        }
      ]
    },
    {
      "cell_type": "code",
      "source": [],
      "metadata": {
        "id": "cdCPSGUyiNmr"
      },
      "execution_count": null,
      "outputs": []
    }
  ]
}